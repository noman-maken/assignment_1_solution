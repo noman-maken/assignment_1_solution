{
 "cells": [
  {
   "cell_type": "markdown",
   "metadata": {},
   "source": [
    "# Indexing"
   ]
  },
  {
   "cell_type": "code",
   "execution_count": 1,
   "metadata": {},
   "outputs": [],
   "source": [
    "employee_data = ['Ali', 125000, 'Google', 5]"
   ]
  },
  {
   "cell_type": "code",
   "execution_count": 2,
   "metadata": {},
   "outputs": [],
   "source": [
    "studentData = employee_data[0] + \" \" + \"is working in\" + \" \" + employee_data[2] + \" \" + \"for\" + str(employee_data[3]) + \" \" + \"years and his salary is \" + str(employee_data[1])"
   ]
  },
  {
   "cell_type": "code",
   "execution_count": 3,
   "metadata": {},
   "outputs": [
    {
     "name": "stdout",
     "output_type": "stream",
     "text": [
      "Ali is working in Google for5 years and his salary is 125000\n"
     ]
    }
   ],
   "source": [
    "print(studentData)"
   ]
  },
  {
   "cell_type": "raw",
   "metadata": {},
   "source": [
    "output: 'Ali is working in Google for 5 years and his salary is 125000'"
   ]
  },
  {
   "cell_type": "code",
   "execution_count": 7,
   "metadata": {},
   "outputs": [],
   "source": [
    "studentData = ['Ahmed', 'Bilal', 'Government College University', 'Computer Science', 'BS', 50000, '28 Januray 2020', '05 February 2020']"
   ]
  },
  {
   "cell_type": "raw",
   "metadata": {},
   "source": [
    "'Hello Ahmed Bilal,\n",
    "Your application is accepted for admission in \"BS Computer Science\" in Government College University.\n",
    "You have to submit fee 50000 before 28 January 2020.\n",
    "Your classes will start from 05 February 2020.\n",
    "Thanks'"
   ]
  },
  {
   "cell_type": "code",
   "execution_count": 21,
   "metadata": {},
   "outputs": [],
   "source": [
    "msg = \"Hello\" + \" \" + studentData[0] + \" \" + studentData[1] + \",\" +\"\\n\" + \"Your application is accepted for admission in \" + studentData[4]+ \" \" + studentData[3] + \" in Government College University.\""
   ]
  },
  {
   "cell_type": "code",
   "execution_count": 22,
   "metadata": {},
   "outputs": [
    {
     "name": "stdout",
     "output_type": "stream",
     "text": [
      "Hello Ahmed Bilal,\n",
      "Your application is accepted for admission in BS Computer Science in Government College University.\n"
     ]
    }
   ],
   "source": [
    "print(msg)"
   ]
  },
  {
   "cell_type": "markdown",
   "metadata": {},
   "source": [
    "# 2. Slicing"
   ]
  },
  {
   "cell_type": "code",
   "execution_count": 23,
   "metadata": {},
   "outputs": [],
   "source": [
    "cities = [\"Faisalabad\", \"Lahore\", \"Islamabad\", \"Peshawar\", \"Quetta\", \"Sahiwal\", \"Rawalpindi\", \"Sialkot\"]"
   ]
  },
  {
   "cell_type": "raw",
   "metadata": {},
   "source": [
    "Outputs:\n",
    "(For positive slicing)\n",
    "1. [\"Faisalabad\", \"Lahore\", \"Islamabad\", \"Peshawar\"]\n",
    "2. [\"Islamabad\", \"Peshawar\", \"Quetta\", \"Sahiwal\"]\n",
    "3. [\"Sahiwal\", \"Rawalpindi\", \"Sialkot\"]"
   ]
  },
  {
   "cell_type": "code",
   "execution_count": 26,
   "metadata": {},
   "outputs": [
    {
     "name": "stdout",
     "output_type": "stream",
     "text": [
      "['Faisalabad', 'Lahore', 'Islamabad', 'Peshawar']\n"
     ]
    }
   ],
   "source": [
    "A1 = cities[0:4]\n",
    "print(A1)"
   ]
  },
  {
   "cell_type": "code",
   "execution_count": 27,
   "metadata": {},
   "outputs": [
    {
     "name": "stdout",
     "output_type": "stream",
     "text": [
      "['Islamabad', 'Peshawar', 'Quetta', 'Sahiwal']\n"
     ]
    }
   ],
   "source": [
    "A2 = cities[2:6]\n",
    "print(A2)"
   ]
  },
  {
   "cell_type": "code",
   "execution_count": 28,
   "metadata": {},
   "outputs": [
    {
     "name": "stdout",
     "output_type": "stream",
     "text": [
      "['Sahiwal', 'Rawalpindi', 'Sialkot']\n"
     ]
    }
   ],
   "source": [
    "A3 = cities[5:]\n",
    "print(A3)"
   ]
  },
  {
   "cell_type": "code",
   "execution_count": 29,
   "metadata": {},
   "outputs": [
    {
     "name": "stdout",
     "output_type": "stream",
     "text": [
      "['Faisalabad', 'Lahore', 'Islamabad', 'Peshawar']\n",
      "['Islamabad', 'Peshawar', 'Quetta', 'Sahiwal']\n",
      "['Sahiwal', 'Rawalpindi', 'Sialkot']\n"
     ]
    }
   ],
   "source": [
    "print(A1)\n",
    "print(A2)\n",
    "print(A3)"
   ]
  },
  {
   "cell_type": "markdown",
   "metadata": {},
   "source": [
    "# Negative Slicing"
   ]
  },
  {
   "cell_type": "code",
   "execution_count": 30,
   "metadata": {},
   "outputs": [],
   "source": [
    "cities = [\"Faisalabad\", \"Lahore\", \"Islamabad\", \"Peshawar\", \"Quetta\", \"Sahiwal\", \"Rawalpindi\", \"Sialkot\"]"
   ]
  },
  {
   "cell_type": "raw",
   "metadata": {},
   "source": [
    "(For negative slicing)\n",
    "1. ['Quetta', 'Sahiwal', 'Rawalpindi']\n",
    "2. ['Peshawar', 'Quetta', 'Sahiwal', 'Rawalpindi', 'Sialkot']"
   ]
  },
  {
   "cell_type": "code",
   "execution_count": 38,
   "metadata": {},
   "outputs": [
    {
     "name": "stdout",
     "output_type": "stream",
     "text": [
      "['Quetta', 'Sahiwal', 'Rawalpindi']\n",
      "['Peshawar', 'Quetta', 'Sahiwal', 'Rawalpindi', 'Sialkot']\n"
     ]
    }
   ],
   "source": [
    "C1 = cities[-4:7]\n",
    "C2 = cities[-5:]\n",
    "print(C1)\n",
    "print(C2)"
   ]
  },
  {
   "cell_type": "markdown",
   "metadata": {},
   "source": [
    "# 3. Update Lists"
   ]
  },
  {
   "cell_type": "code",
   "execution_count": 35,
   "metadata": {},
   "outputs": [],
   "source": [
    "studentData = [\"Ali Raza\", 22, 91.24, \"Computer Science\", 5, \"University of Agriculture\"]"
   ]
  },
  {
   "cell_type": "raw",
   "metadata": {},
   "source": [
    "1. '20 February 2019'\n",
    "2. 8"
   ]
  },
  {
   "cell_type": "code",
   "execution_count": 36,
   "metadata": {},
   "outputs": [],
   "source": [
    "studentData.append('20 February 2019')\n",
    "studentData.append(8)"
   ]
  },
  {
   "cell_type": "code",
   "execution_count": 37,
   "metadata": {},
   "outputs": [
    {
     "name": "stdout",
     "output_type": "stream",
     "text": [
      "['Ali Raza', 22, 91.24, 'Computer Science', 5, 'University of Agriculture', '20 February 2019', 8]\n"
     ]
    }
   ],
   "source": [
    "print(studentData)"
   ]
  },
  {
   "cell_type": "raw",
   "metadata": {},
   "source": [
    "1. 25000 at index 4\n",
    "2. 'M. Iqbal' at index 1"
   ]
  },
  {
   "cell_type": "code",
   "execution_count": 40,
   "metadata": {},
   "outputs": [],
   "source": [
    "#Insert Method\n",
    "studentData.insert(4, 25000)\n",
    "studentData.insert(1, 'M . Iqbal')"
   ]
  },
  {
   "cell_type": "code",
   "execution_count": 41,
   "metadata": {},
   "outputs": [
    {
     "name": "stdout",
     "output_type": "stream",
     "text": [
      "['Ali Raza', 'M . Iqbal', 22, 91.24, 'Computer Science', 25000, 5, 'University of Agriculture', '20 February 2019', 8]\n"
     ]
    }
   ],
   "source": [
    "print(studentData)"
   ]
  },
  {
   "cell_type": "raw",
   "metadata": {},
   "source": [
    "Update list using list update method:\n",
    "\n",
    "1. Change Name from 'Ali Raza' to 'Zohaib Ali'\n",
    "2. Change No of subjects from 5 to 7"
   ]
  },
  {
   "cell_type": "code",
   "execution_count": 42,
   "metadata": {},
   "outputs": [],
   "source": [
    "#replacing\n",
    "studentData[0] = 'Zohaib Ali'\n",
    "studentData[6] = 7"
   ]
  },
  {
   "cell_type": "code",
   "execution_count": 43,
   "metadata": {},
   "outputs": [
    {
     "name": "stdout",
     "output_type": "stream",
     "text": [
      "['Zohaib Ali', 'M . Iqbal', 22, 91.24, 'Computer Science', 25000, 7, 'University of Agriculture', '20 February 2019', 8]\n"
     ]
    }
   ],
   "source": [
    "print(studentData)"
   ]
  },
  {
   "cell_type": "raw",
   "metadata": {},
   "source": [
    "Remove values from list using remove method\n",
    "\n",
    "1. 'Computer Science'\n",
    "2. 91.24"
   ]
  },
  {
   "cell_type": "code",
   "execution_count": 44,
   "metadata": {},
   "outputs": [],
   "source": [
    "studentData.remove('Computer Science')\n",
    "studentData.remove(91.24)"
   ]
  },
  {
   "cell_type": "code",
   "execution_count": 45,
   "metadata": {},
   "outputs": [
    {
     "name": "stdout",
     "output_type": "stream",
     "text": [
      "['Zohaib Ali', 'M . Iqbal', 22, 25000, 7, 'University of Agriculture', '20 February 2019', 8]\n"
     ]
    }
   ],
   "source": [
    "print(studentData)"
   ]
  },
  {
   "cell_type": "raw",
   "metadata": {},
   "source": [
    "Remove using pop method\n",
    "\n",
    "1. Last value from list\n",
    "2. value at 3rd index"
   ]
  },
  {
   "cell_type": "code",
   "execution_count": 46,
   "metadata": {},
   "outputs": [
    {
     "data": {
      "text/plain": [
       "8"
      ]
     },
     "execution_count": 46,
     "metadata": {},
     "output_type": "execute_result"
    }
   ],
   "source": [
    "#Pop method\n",
    "studentData.pop()"
   ]
  },
  {
   "cell_type": "code",
   "execution_count": 47,
   "metadata": {},
   "outputs": [
    {
     "data": {
      "text/plain": [
       "25000"
      ]
     },
     "execution_count": 47,
     "metadata": {},
     "output_type": "execute_result"
    }
   ],
   "source": [
    "studentData.pop(3)"
   ]
  },
  {
   "cell_type": "code",
   "execution_count": 48,
   "metadata": {},
   "outputs": [
    {
     "name": "stdout",
     "output_type": "stream",
     "text": [
      "['Zohaib Ali', 'M . Iqbal', 22, 7, 'University of Agriculture', '20 February 2019']\n"
     ]
    }
   ],
   "source": [
    "print(studentData)"
   ]
  },
  {
   "cell_type": "markdown",
   "metadata": {},
   "source": [
    "# Multidimentional List Task"
   ]
  },
  {
   "cell_type": "code",
   "execution_count": 51,
   "metadata": {},
   "outputs": [],
   "source": [
    "employeeData = [[\"Ali\", 55000, \"Software Engineer\"],\n",
    "\t\t\t\t[\"Talha\", 55000, \"Product Manager\"],\n",
    "\t\t\t\t[\"Nasir\", 79000, \"Computer Engineer\"],\n",
    "\t\t\t\t[\"Khalid\", 44000, \"DBA\"]]"
   ]
  },
  {
   "cell_type": "code",
   "execution_count": 52,
   "metadata": {},
   "outputs": [
    {
     "name": "stdout",
     "output_type": "stream",
     "text": [
      "Ali\n",
      "Talha\n",
      "Nasir\n"
     ]
    }
   ],
   "source": [
    "#1. Print name of employees with salaray greater than 50000\n",
    "for variable_1 in employeeData:\n",
    "    salary = variable_1[1]\n",
    "    if salary > 50000:\n",
    "        print(variable_1[0])"
   ]
  },
  {
   "cell_type": "code",
   "execution_count": 53,
   "metadata": {},
   "outputs": [
    {
     "name": "stdout",
     "output_type": "stream",
     "text": [
      "233000\n"
     ]
    }
   ],
   "source": [
    "#2. Calculate total salary of all employees\n",
    "totalSalary = 0\n",
    "for i in employeeData:\n",
    "    salary = i[1]\n",
    "    totalSalary += salary\n",
    "print(totalSalary)"
   ]
  },
  {
   "cell_type": "code",
   "execution_count": 54,
   "metadata": {},
   "outputs": [
    {
     "data": {
      "text/plain": [
       "233000"
      ]
     },
     "execution_count": 54,
     "metadata": {},
     "output_type": "execute_result"
    }
   ],
   "source": [
    "55000 + 55000 + 79000 + 44000"
   ]
  },
  {
   "cell_type": "code",
   "execution_count": 55,
   "metadata": {},
   "outputs": [],
   "source": [
    "#List update tasks\n",
    "#1 Change salary of nasir from 79000 to 90000 and designation to \"Product Manager\"\n",
    "#2. Change salary of Khalid to 50000\n",
    "employeeData = [[\"Ali\", 55000, \"Software Engineer\"],\n",
    "\t\t\t\t[\"Talha\", 55000, \"Product Manager\"],\n",
    "\t\t\t\t[\"Nasir\", 79000, \"Computer Engineer\"],\n",
    "\t\t\t\t[\"Khalid\", 44000, \"DBA\"]]"
   ]
  },
  {
   "cell_type": "code",
   "execution_count": 57,
   "metadata": {},
   "outputs": [
    {
     "name": "stdout",
     "output_type": "stream",
     "text": [
      "[['Ali', 55000, 'Software Engineer'], ['Talha', 55000, 'Product Manager'], ['Nasir', 90000, 'Product Manager'], ['Khalid', 50000, 'DBA']]\n"
     ]
    }
   ],
   "source": [
    "for s in employeeData:\n",
    "    if s[0] == 'Nasir':\n",
    "        s[1] = 90000\n",
    "        s[2] = \"Product Manager\"\n",
    "    elif s[0] == 'Khalid':\n",
    "        s[1] = 50000\n",
    "print(employeeData)      "
   ]
  },
  {
   "cell_type": "markdown",
   "metadata": {},
   "source": [
    "# Login User"
   ]
  },
  {
   "cell_type": "code",
   "execution_count": 58,
   "metadata": {},
   "outputs": [],
   "source": [
    "# Data 1\n",
    "username = \"faizan1214\"\n",
    "password = \"qwerty\"\n",
    "emailVerified = False"
   ]
  },
  {
   "cell_type": "raw",
   "metadata": {},
   "source": [
    "You have given some users data. You have to write a script to check if username and password are correct. If username and password are correct. Then you have to check if email is verified or not. If it is verified then print Login Succeed else print Email not verified. If username or password are incorrect you have to print Incorrect Login details"
   ]
  },
  {
   "cell_type": "code",
   "execution_count": 59,
   "metadata": {},
   "outputs": [
    {
     "name": "stdout",
     "output_type": "stream",
     "text": [
      "Incorrect Login details\n"
     ]
    }
   ],
   "source": [
    "if username == 'faizan1213':\n",
    "    if password == 'qwerty':\n",
    "        if emailVerified == True:\n",
    "            print(\"Login Succeed\")\n",
    "        else:\n",
    "            print(\"Email Not Verified\")\n",
    "    else:\n",
    "        print(\"Incorrect Login details\")\n",
    "else:\n",
    "    print(\"Incorrect Login details\")"
   ]
  },
  {
   "cell_type": "code",
   "execution_count": 63,
   "metadata": {},
   "outputs": [
    {
     "name": "stdout",
     "output_type": "stream",
     "text": [
      "Email Not Verified\n"
     ]
    }
   ],
   "source": [
    "if username == 'faizan1214':\n",
    "    if password == 'qwerty':\n",
    "        if emailVerified == True:\n",
    "            print(\"Login Succeed\")\n",
    "        else:\n",
    "            print(\"Email Not Verified\")\n",
    "    else:\n",
    "        print(\"Incorrect  Password\")\n",
    "else:\n",
    "    print(\"Incorrect Username\")"
   ]
  },
  {
   "cell_type": "code",
   "execution_count": 64,
   "metadata": {},
   "outputs": [],
   "source": [
    "# Data 2\n",
    "username = \"faizan1214\"\n",
    "password = \"qwerty\"\n",
    "emailVerified = True"
   ]
  },
  {
   "cell_type": "code",
   "execution_count": 65,
   "metadata": {},
   "outputs": [
    {
     "name": "stdout",
     "output_type": "stream",
     "text": [
      "Login Succeed\n"
     ]
    }
   ],
   "source": [
    "if username == 'faizan1214':\n",
    "    if password == 'qwerty':\n",
    "        if emailVerified == True:\n",
    "            print(\"Login Succeed\")\n",
    "        else:\n",
    "            print(\"Email Not Verified\")\n",
    "    else:\n",
    "        print(\"Incorrect  Password\")\n",
    "else:\n",
    "    print(\"Incorrect Username\")"
   ]
  },
  {
   "cell_type": "code",
   "execution_count": null,
   "metadata": {},
   "outputs": [],
   "source": []
  }
 ],
 "metadata": {
  "kernelspec": {
   "display_name": "Python 3",
   "language": "python",
   "name": "python3"
  },
  "language_info": {
   "codemirror_mode": {
    "name": "ipython",
    "version": 3
   },
   "file_extension": ".py",
   "mimetype": "text/x-python",
   "name": "python",
   "nbconvert_exporter": "python",
   "pygments_lexer": "ipython3",
   "version": "3.7.6"
  }
 },
 "nbformat": 4,
 "nbformat_minor": 4
}
